{
  "nbformat": 4,
  "nbformat_minor": 0,
  "metadata": {
    "kernelspec": {
      "display_name": "Python 3",
      "language": "python",
      "name": "python3"
    },
    "language_info": {
      "codemirror_mode": {
        "name": "ipython",
        "version": 3
      },
      "file_extension": ".py",
      "mimetype": "text/x-python",
      "name": "python",
      "nbconvert_exporter": "python",
      "pygments_lexer": "ipython3",
      "version": "3.7.3"
    },
    "toc": {
      "base_numbering": 1,
      "nav_menu": {},
      "number_sections": true,
      "sideBar": true,
      "skip_h1_title": true,
      "title_cell": "Table of Contents",
      "title_sidebar": "Contents",
      "toc_cell": false,
      "toc_position": {},
      "toc_section_display": true,
      "toc_window_display": false
    },
    "colab": {
      "name": "test_technique.ipynb",
      "provenance": [],
      "include_colab_link": true
    }
  },
  "cells": [
    {
      "cell_type": "markdown",
      "metadata": {
        "id": "view-in-github",
        "colab_type": "text"
      },
      "source": [
        "<a href=\"https://colab.research.google.com/github/vibolrothsambath/test_technique/blob/main/test_technique.ipynb\" target=\"_parent\"><img src=\"https://colab.research.google.com/assets/colab-badge.svg\" alt=\"Open In Colab\"/></a>"
      ]
    },
    {
      "cell_type": "markdown",
      "metadata": {
        "id": "EiwVfh8utf8j"
      },
      "source": [
        "# Test technique"
      ]
    },
    {
      "cell_type": "markdown",
      "metadata": {
        "id": "jn0MlKTJtf8x"
      },
      "source": [
        "This notebook contains the algorithms for predicting the `TARGET_FLAG` in the auto insurance dataset: pre-processing of variables, training, evaluation of methods, and prediction of the test dataset. The three methods used are logistic regression, Decision Tree Classifier and Random Forest Classifier."
      ]
    },
    {
      "cell_type": "markdown",
      "metadata": {
        "id": "ArYkONZVtf8y"
      },
      "source": [
        "### Import data"
      ]
    },
    {
      "cell_type": "code",
      "metadata": {
        "ExecuteTime": {
          "end_time": "2021-01-01T14:03:20.775404Z",
          "start_time": "2021-01-01T14:03:17.967655Z"
        },
        "id": "lcM_M2x1tf8z"
      },
      "source": [
        "# import libraries \n",
        "import pandas as pd\n",
        "pd.set_option('display.max_columns', 60)\n",
        "import matplotlib.pyplot as plt"
      ],
      "execution_count": 1,
      "outputs": []
    },
    {
      "cell_type": "code",
      "metadata": {
        "ExecuteTime": {
          "end_time": "2021-01-01T15:49:29.600117Z",
          "start_time": "2021-01-01T15:49:29.405694Z"
        },
        "id": "tVGTxOUztf80"
      },
      "source": [
        "# Import data\n",
        "test = pd.read_csv(\"/content/test_auto.csv\")\n",
        "train = pd.read_csv(\"/content/train_auto.csv\")"
      ],
      "execution_count": 2,
      "outputs": []
    },
    {
      "cell_type": "markdown",
      "metadata": {
        "id": "Eox4fKGUtf80"
      },
      "source": [
        "First look at the data:"
      ]
    },
    {
      "cell_type": "code",
      "metadata": {
        "ExecuteTime": {
          "end_time": "2021-01-01T16:22:25.994238Z",
          "start_time": "2021-01-01T16:22:25.915821Z"
        },
        "colab": {
          "base_uri": "https://localhost:8080/",
          "height": 395
        },
        "id": "T5V2mMx6tf81",
        "outputId": "d65bcdff-1719-4d23-bd01-d1762c0aecd8"
      },
      "source": [
        "train.head()"
      ],
      "execution_count": 3,
      "outputs": [
        {
          "output_type": "execute_result",
          "data": {
            "text/html": [
              "<div>\n",
              "<style scoped>\n",
              "    .dataframe tbody tr th:only-of-type {\n",
              "        vertical-align: middle;\n",
              "    }\n",
              "\n",
              "    .dataframe tbody tr th {\n",
              "        vertical-align: top;\n",
              "    }\n",
              "\n",
              "    .dataframe thead th {\n",
              "        text-align: right;\n",
              "    }\n",
              "</style>\n",
              "<table border=\"1\" class=\"dataframe\">\n",
              "  <thead>\n",
              "    <tr style=\"text-align: right;\">\n",
              "      <th></th>\n",
              "      <th>INDEX</th>\n",
              "      <th>TARGET_FLAG</th>\n",
              "      <th>TARGET_AMT</th>\n",
              "      <th>KIDSDRIV</th>\n",
              "      <th>AGE</th>\n",
              "      <th>HOMEKIDS</th>\n",
              "      <th>YOJ</th>\n",
              "      <th>INCOME</th>\n",
              "      <th>PARENT1</th>\n",
              "      <th>HOME_VAL</th>\n",
              "      <th>MSTATUS</th>\n",
              "      <th>SEX</th>\n",
              "      <th>EDUCATION</th>\n",
              "      <th>JOB</th>\n",
              "      <th>TRAVTIME</th>\n",
              "      <th>CAR_USE</th>\n",
              "      <th>BLUEBOOK</th>\n",
              "      <th>TIF</th>\n",
              "      <th>CAR_TYPE</th>\n",
              "      <th>RED_CAR</th>\n",
              "      <th>OLDCLAIM</th>\n",
              "      <th>CLM_FREQ</th>\n",
              "      <th>REVOKED</th>\n",
              "      <th>MVR_PTS</th>\n",
              "      <th>CAR_AGE</th>\n",
              "      <th>URBANICITY</th>\n",
              "    </tr>\n",
              "  </thead>\n",
              "  <tbody>\n",
              "    <tr>\n",
              "      <th>0</th>\n",
              "      <td>1</td>\n",
              "      <td>0</td>\n",
              "      <td>0.0</td>\n",
              "      <td>0</td>\n",
              "      <td>60.0</td>\n",
              "      <td>0</td>\n",
              "      <td>11.0</td>\n",
              "      <td>$67,349</td>\n",
              "      <td>No</td>\n",
              "      <td>$0</td>\n",
              "      <td>z_No</td>\n",
              "      <td>M</td>\n",
              "      <td>PhD</td>\n",
              "      <td>Professional</td>\n",
              "      <td>14</td>\n",
              "      <td>Private</td>\n",
              "      <td>$14,230</td>\n",
              "      <td>11</td>\n",
              "      <td>Minivan</td>\n",
              "      <td>yes</td>\n",
              "      <td>$4,461</td>\n",
              "      <td>2</td>\n",
              "      <td>No</td>\n",
              "      <td>3</td>\n",
              "      <td>18.0</td>\n",
              "      <td>Highly Urban/ Urban</td>\n",
              "    </tr>\n",
              "    <tr>\n",
              "      <th>1</th>\n",
              "      <td>2</td>\n",
              "      <td>0</td>\n",
              "      <td>0.0</td>\n",
              "      <td>0</td>\n",
              "      <td>43.0</td>\n",
              "      <td>0</td>\n",
              "      <td>11.0</td>\n",
              "      <td>$91,449</td>\n",
              "      <td>No</td>\n",
              "      <td>$257,252</td>\n",
              "      <td>z_No</td>\n",
              "      <td>M</td>\n",
              "      <td>z_High School</td>\n",
              "      <td>z_Blue Collar</td>\n",
              "      <td>22</td>\n",
              "      <td>Commercial</td>\n",
              "      <td>$14,940</td>\n",
              "      <td>1</td>\n",
              "      <td>Minivan</td>\n",
              "      <td>yes</td>\n",
              "      <td>$0</td>\n",
              "      <td>0</td>\n",
              "      <td>No</td>\n",
              "      <td>0</td>\n",
              "      <td>1.0</td>\n",
              "      <td>Highly Urban/ Urban</td>\n",
              "    </tr>\n",
              "    <tr>\n",
              "      <th>2</th>\n",
              "      <td>4</td>\n",
              "      <td>0</td>\n",
              "      <td>0.0</td>\n",
              "      <td>0</td>\n",
              "      <td>35.0</td>\n",
              "      <td>1</td>\n",
              "      <td>10.0</td>\n",
              "      <td>$16,039</td>\n",
              "      <td>No</td>\n",
              "      <td>$124,191</td>\n",
              "      <td>Yes</td>\n",
              "      <td>z_F</td>\n",
              "      <td>z_High School</td>\n",
              "      <td>Clerical</td>\n",
              "      <td>5</td>\n",
              "      <td>Private</td>\n",
              "      <td>$4,010</td>\n",
              "      <td>4</td>\n",
              "      <td>z_SUV</td>\n",
              "      <td>no</td>\n",
              "      <td>$38,690</td>\n",
              "      <td>2</td>\n",
              "      <td>No</td>\n",
              "      <td>3</td>\n",
              "      <td>10.0</td>\n",
              "      <td>Highly Urban/ Urban</td>\n",
              "    </tr>\n",
              "    <tr>\n",
              "      <th>3</th>\n",
              "      <td>5</td>\n",
              "      <td>0</td>\n",
              "      <td>0.0</td>\n",
              "      <td>0</td>\n",
              "      <td>51.0</td>\n",
              "      <td>0</td>\n",
              "      <td>14.0</td>\n",
              "      <td>NaN</td>\n",
              "      <td>No</td>\n",
              "      <td>$306,251</td>\n",
              "      <td>Yes</td>\n",
              "      <td>M</td>\n",
              "      <td>&lt;High School</td>\n",
              "      <td>z_Blue Collar</td>\n",
              "      <td>32</td>\n",
              "      <td>Private</td>\n",
              "      <td>$15,440</td>\n",
              "      <td>7</td>\n",
              "      <td>Minivan</td>\n",
              "      <td>yes</td>\n",
              "      <td>$0</td>\n",
              "      <td>0</td>\n",
              "      <td>No</td>\n",
              "      <td>0</td>\n",
              "      <td>6.0</td>\n",
              "      <td>Highly Urban/ Urban</td>\n",
              "    </tr>\n",
              "    <tr>\n",
              "      <th>4</th>\n",
              "      <td>6</td>\n",
              "      <td>0</td>\n",
              "      <td>0.0</td>\n",
              "      <td>0</td>\n",
              "      <td>50.0</td>\n",
              "      <td>0</td>\n",
              "      <td>NaN</td>\n",
              "      <td>$114,986</td>\n",
              "      <td>No</td>\n",
              "      <td>$243,925</td>\n",
              "      <td>Yes</td>\n",
              "      <td>z_F</td>\n",
              "      <td>PhD</td>\n",
              "      <td>Doctor</td>\n",
              "      <td>36</td>\n",
              "      <td>Private</td>\n",
              "      <td>$18,000</td>\n",
              "      <td>1</td>\n",
              "      <td>z_SUV</td>\n",
              "      <td>no</td>\n",
              "      <td>$19,217</td>\n",
              "      <td>2</td>\n",
              "      <td>Yes</td>\n",
              "      <td>3</td>\n",
              "      <td>17.0</td>\n",
              "      <td>Highly Urban/ Urban</td>\n",
              "    </tr>\n",
              "  </tbody>\n",
              "</table>\n",
              "</div>"
            ],
            "text/plain": [
              "   INDEX  TARGET_FLAG  TARGET_AMT  KIDSDRIV   AGE  HOMEKIDS   YOJ    INCOME  \\\n",
              "0      1            0         0.0         0  60.0         0  11.0   $67,349   \n",
              "1      2            0         0.0         0  43.0         0  11.0   $91,449   \n",
              "2      4            0         0.0         0  35.0         1  10.0   $16,039   \n",
              "3      5            0         0.0         0  51.0         0  14.0       NaN   \n",
              "4      6            0         0.0         0  50.0         0   NaN  $114,986   \n",
              "\n",
              "  PARENT1  HOME_VAL MSTATUS  SEX      EDUCATION            JOB  TRAVTIME  \\\n",
              "0      No        $0    z_No    M            PhD   Professional        14   \n",
              "1      No  $257,252    z_No    M  z_High School  z_Blue Collar        22   \n",
              "2      No  $124,191     Yes  z_F  z_High School       Clerical         5   \n",
              "3      No  $306,251     Yes    M   <High School  z_Blue Collar        32   \n",
              "4      No  $243,925     Yes  z_F            PhD         Doctor        36   \n",
              "\n",
              "      CAR_USE BLUEBOOK  TIF CAR_TYPE RED_CAR OLDCLAIM  CLM_FREQ REVOKED  \\\n",
              "0     Private  $14,230   11  Minivan     yes   $4,461         2      No   \n",
              "1  Commercial  $14,940    1  Minivan     yes       $0         0      No   \n",
              "2     Private   $4,010    4    z_SUV      no  $38,690         2      No   \n",
              "3     Private  $15,440    7  Minivan     yes       $0         0      No   \n",
              "4     Private  $18,000    1    z_SUV      no  $19,217         2     Yes   \n",
              "\n",
              "   MVR_PTS  CAR_AGE           URBANICITY  \n",
              "0        3     18.0  Highly Urban/ Urban  \n",
              "1        0      1.0  Highly Urban/ Urban  \n",
              "2        3     10.0  Highly Urban/ Urban  \n",
              "3        0      6.0  Highly Urban/ Urban  \n",
              "4        3     17.0  Highly Urban/ Urban  "
            ]
          },
          "metadata": {
            "tags": []
          },
          "execution_count": 3
        }
      ]
    },
    {
      "cell_type": "code",
      "metadata": {
        "ExecuteTime": {
          "end_time": "2020-12-30T21:16:27.966321Z",
          "start_time": "2020-12-30T21:16:27.860365Z"
        },
        "colab": {
          "base_uri": "https://localhost:8080/",
          "height": 361
        },
        "id": "sBG4QWnTtf83",
        "outputId": "85ca67c3-ff10-4ca6-e672-35196a2c9b9f"
      },
      "source": [
        "test.head()"
      ],
      "execution_count": 4,
      "outputs": [
        {
          "output_type": "execute_result",
          "data": {
            "text/html": [
              "<div>\n",
              "<style scoped>\n",
              "    .dataframe tbody tr th:only-of-type {\n",
              "        vertical-align: middle;\n",
              "    }\n",
              "\n",
              "    .dataframe tbody tr th {\n",
              "        vertical-align: top;\n",
              "    }\n",
              "\n",
              "    .dataframe thead th {\n",
              "        text-align: right;\n",
              "    }\n",
              "</style>\n",
              "<table border=\"1\" class=\"dataframe\">\n",
              "  <thead>\n",
              "    <tr style=\"text-align: right;\">\n",
              "      <th></th>\n",
              "      <th>INDEX</th>\n",
              "      <th>TARGET_FLAG</th>\n",
              "      <th>TARGET_AMT</th>\n",
              "      <th>KIDSDRIV</th>\n",
              "      <th>AGE</th>\n",
              "      <th>HOMEKIDS</th>\n",
              "      <th>YOJ</th>\n",
              "      <th>INCOME</th>\n",
              "      <th>PARENT1</th>\n",
              "      <th>HOME_VAL</th>\n",
              "      <th>MSTATUS</th>\n",
              "      <th>SEX</th>\n",
              "      <th>EDUCATION</th>\n",
              "      <th>JOB</th>\n",
              "      <th>TRAVTIME</th>\n",
              "      <th>CAR_USE</th>\n",
              "      <th>BLUEBOOK</th>\n",
              "      <th>TIF</th>\n",
              "      <th>CAR_TYPE</th>\n",
              "      <th>RED_CAR</th>\n",
              "      <th>OLDCLAIM</th>\n",
              "      <th>CLM_FREQ</th>\n",
              "      <th>REVOKED</th>\n",
              "      <th>MVR_PTS</th>\n",
              "      <th>CAR_AGE</th>\n",
              "      <th>URBANICITY</th>\n",
              "    </tr>\n",
              "  </thead>\n",
              "  <tbody>\n",
              "    <tr>\n",
              "      <th>0</th>\n",
              "      <td>3</td>\n",
              "      <td>NaN</td>\n",
              "      <td>NaN</td>\n",
              "      <td>0</td>\n",
              "      <td>48.0</td>\n",
              "      <td>0</td>\n",
              "      <td>11.0</td>\n",
              "      <td>$52,881</td>\n",
              "      <td>No</td>\n",
              "      <td>$0</td>\n",
              "      <td>z_No</td>\n",
              "      <td>M</td>\n",
              "      <td>Bachelors</td>\n",
              "      <td>Manager</td>\n",
              "      <td>26</td>\n",
              "      <td>Private</td>\n",
              "      <td>$21,970</td>\n",
              "      <td>1</td>\n",
              "      <td>Van</td>\n",
              "      <td>yes</td>\n",
              "      <td>$0</td>\n",
              "      <td>0</td>\n",
              "      <td>No</td>\n",
              "      <td>2</td>\n",
              "      <td>10.0</td>\n",
              "      <td>Highly Urban/ Urban</td>\n",
              "    </tr>\n",
              "    <tr>\n",
              "      <th>1</th>\n",
              "      <td>9</td>\n",
              "      <td>NaN</td>\n",
              "      <td>NaN</td>\n",
              "      <td>1</td>\n",
              "      <td>40.0</td>\n",
              "      <td>1</td>\n",
              "      <td>11.0</td>\n",
              "      <td>$50,815</td>\n",
              "      <td>Yes</td>\n",
              "      <td>$0</td>\n",
              "      <td>z_No</td>\n",
              "      <td>M</td>\n",
              "      <td>z_High School</td>\n",
              "      <td>Manager</td>\n",
              "      <td>21</td>\n",
              "      <td>Private</td>\n",
              "      <td>$18,930</td>\n",
              "      <td>6</td>\n",
              "      <td>Minivan</td>\n",
              "      <td>no</td>\n",
              "      <td>$3,295</td>\n",
              "      <td>1</td>\n",
              "      <td>No</td>\n",
              "      <td>2</td>\n",
              "      <td>1.0</td>\n",
              "      <td>Highly Urban/ Urban</td>\n",
              "    </tr>\n",
              "    <tr>\n",
              "      <th>2</th>\n",
              "      <td>10</td>\n",
              "      <td>NaN</td>\n",
              "      <td>NaN</td>\n",
              "      <td>0</td>\n",
              "      <td>44.0</td>\n",
              "      <td>2</td>\n",
              "      <td>12.0</td>\n",
              "      <td>$43,486</td>\n",
              "      <td>Yes</td>\n",
              "      <td>$0</td>\n",
              "      <td>z_No</td>\n",
              "      <td>z_F</td>\n",
              "      <td>z_High School</td>\n",
              "      <td>z_Blue Collar</td>\n",
              "      <td>30</td>\n",
              "      <td>Commercial</td>\n",
              "      <td>$5,900</td>\n",
              "      <td>10</td>\n",
              "      <td>z_SUV</td>\n",
              "      <td>no</td>\n",
              "      <td>$0</td>\n",
              "      <td>0</td>\n",
              "      <td>No</td>\n",
              "      <td>0</td>\n",
              "      <td>10.0</td>\n",
              "      <td>z_Highly Rural/ Rural</td>\n",
              "    </tr>\n",
              "    <tr>\n",
              "      <th>3</th>\n",
              "      <td>18</td>\n",
              "      <td>NaN</td>\n",
              "      <td>NaN</td>\n",
              "      <td>0</td>\n",
              "      <td>35.0</td>\n",
              "      <td>2</td>\n",
              "      <td>NaN</td>\n",
              "      <td>$21,204</td>\n",
              "      <td>Yes</td>\n",
              "      <td>$0</td>\n",
              "      <td>z_No</td>\n",
              "      <td>M</td>\n",
              "      <td>z_High School</td>\n",
              "      <td>Clerical</td>\n",
              "      <td>74</td>\n",
              "      <td>Private</td>\n",
              "      <td>$9,230</td>\n",
              "      <td>6</td>\n",
              "      <td>Pickup</td>\n",
              "      <td>no</td>\n",
              "      <td>$0</td>\n",
              "      <td>0</td>\n",
              "      <td>Yes</td>\n",
              "      <td>0</td>\n",
              "      <td>4.0</td>\n",
              "      <td>z_Highly Rural/ Rural</td>\n",
              "    </tr>\n",
              "    <tr>\n",
              "      <th>4</th>\n",
              "      <td>21</td>\n",
              "      <td>NaN</td>\n",
              "      <td>NaN</td>\n",
              "      <td>0</td>\n",
              "      <td>59.0</td>\n",
              "      <td>0</td>\n",
              "      <td>12.0</td>\n",
              "      <td>$87,460</td>\n",
              "      <td>No</td>\n",
              "      <td>$0</td>\n",
              "      <td>z_No</td>\n",
              "      <td>M</td>\n",
              "      <td>z_High School</td>\n",
              "      <td>Manager</td>\n",
              "      <td>45</td>\n",
              "      <td>Private</td>\n",
              "      <td>$15,420</td>\n",
              "      <td>1</td>\n",
              "      <td>Minivan</td>\n",
              "      <td>yes</td>\n",
              "      <td>$44,857</td>\n",
              "      <td>2</td>\n",
              "      <td>No</td>\n",
              "      <td>4</td>\n",
              "      <td>1.0</td>\n",
              "      <td>Highly Urban/ Urban</td>\n",
              "    </tr>\n",
              "  </tbody>\n",
              "</table>\n",
              "</div>"
            ],
            "text/plain": [
              "   INDEX  TARGET_FLAG  TARGET_AMT  KIDSDRIV   AGE  HOMEKIDS   YOJ   INCOME  \\\n",
              "0      3          NaN         NaN         0  48.0         0  11.0  $52,881   \n",
              "1      9          NaN         NaN         1  40.0         1  11.0  $50,815   \n",
              "2     10          NaN         NaN         0  44.0         2  12.0  $43,486   \n",
              "3     18          NaN         NaN         0  35.0         2   NaN  $21,204   \n",
              "4     21          NaN         NaN         0  59.0         0  12.0  $87,460   \n",
              "\n",
              "  PARENT1 HOME_VAL MSTATUS  SEX      EDUCATION            JOB  TRAVTIME  \\\n",
              "0      No       $0    z_No    M      Bachelors        Manager        26   \n",
              "1     Yes       $0    z_No    M  z_High School        Manager        21   \n",
              "2     Yes       $0    z_No  z_F  z_High School  z_Blue Collar        30   \n",
              "3     Yes       $0    z_No    M  z_High School       Clerical        74   \n",
              "4      No       $0    z_No    M  z_High School        Manager        45   \n",
              "\n",
              "      CAR_USE BLUEBOOK  TIF CAR_TYPE RED_CAR OLDCLAIM  CLM_FREQ REVOKED  \\\n",
              "0     Private  $21,970    1      Van     yes       $0         0      No   \n",
              "1     Private  $18,930    6  Minivan      no   $3,295         1      No   \n",
              "2  Commercial   $5,900   10    z_SUV      no       $0         0      No   \n",
              "3     Private   $9,230    6   Pickup      no       $0         0     Yes   \n",
              "4     Private  $15,420    1  Minivan     yes  $44,857         2      No   \n",
              "\n",
              "   MVR_PTS  CAR_AGE             URBANICITY  \n",
              "0        2     10.0    Highly Urban/ Urban  \n",
              "1        2      1.0    Highly Urban/ Urban  \n",
              "2        0     10.0  z_Highly Rural/ Rural  \n",
              "3        0      4.0  z_Highly Rural/ Rural  \n",
              "4        4      1.0    Highly Urban/ Urban  "
            ]
          },
          "metadata": {
            "tags": []
          },
          "execution_count": 4
        }
      ]
    },
    {
      "cell_type": "code",
      "metadata": {
        "ExecuteTime": {
          "end_time": "2020-12-30T21:16:31.343419Z",
          "start_time": "2020-12-30T21:16:31.327819Z"
        },
        "colab": {
          "base_uri": "https://localhost:8080/"
        },
        "id": "Yyms5uU_tf84",
        "outputId": "94070c58-7e40-47fe-dde7-ff065f43a63c"
      },
      "source": [
        "train.columns"
      ],
      "execution_count": 5,
      "outputs": [
        {
          "output_type": "execute_result",
          "data": {
            "text/plain": [
              "Index(['INDEX', 'TARGET_FLAG', 'TARGET_AMT', 'KIDSDRIV', 'AGE', 'HOMEKIDS',\n",
              "       'YOJ', 'INCOME', 'PARENT1', 'HOME_VAL', 'MSTATUS', 'SEX', 'EDUCATION',\n",
              "       'JOB', 'TRAVTIME', 'CAR_USE', 'BLUEBOOK', 'TIF', 'CAR_TYPE', 'RED_CAR',\n",
              "       'OLDCLAIM', 'CLM_FREQ', 'REVOKED', 'MVR_PTS', 'CAR_AGE', 'URBANICITY'],\n",
              "      dtype='object')"
            ]
          },
          "metadata": {
            "tags": []
          },
          "execution_count": 5
        }
      ]
    },
    {
      "cell_type": "code",
      "metadata": {
        "ExecuteTime": {
          "end_time": "2020-12-30T21:16:32.549475Z",
          "start_time": "2020-12-30T21:16:32.480239Z"
        },
        "colab": {
          "base_uri": "https://localhost:8080/"
        },
        "id": "-gRp1RbQtf85",
        "outputId": "5bb7d6c7-07db-4a8d-d5be-8775d321d5d1"
      },
      "source": [
        "train.info()"
      ],
      "execution_count": 6,
      "outputs": [
        {
          "output_type": "stream",
          "text": [
            "<class 'pandas.core.frame.DataFrame'>\n",
            "RangeIndex: 8161 entries, 0 to 8160\n",
            "Data columns (total 26 columns):\n",
            " #   Column       Non-Null Count  Dtype  \n",
            "---  ------       --------------  -----  \n",
            " 0   INDEX        8161 non-null   int64  \n",
            " 1   TARGET_FLAG  8161 non-null   int64  \n",
            " 2   TARGET_AMT   8161 non-null   float64\n",
            " 3   KIDSDRIV     8161 non-null   int64  \n",
            " 4   AGE          8155 non-null   float64\n",
            " 5   HOMEKIDS     8161 non-null   int64  \n",
            " 6   YOJ          7707 non-null   float64\n",
            " 7   INCOME       7716 non-null   object \n",
            " 8   PARENT1      8161 non-null   object \n",
            " 9   HOME_VAL     7697 non-null   object \n",
            " 10  MSTATUS      8161 non-null   object \n",
            " 11  SEX          8161 non-null   object \n",
            " 12  EDUCATION    8161 non-null   object \n",
            " 13  JOB          7635 non-null   object \n",
            " 14  TRAVTIME     8161 non-null   int64  \n",
            " 15  CAR_USE      8161 non-null   object \n",
            " 16  BLUEBOOK     8161 non-null   object \n",
            " 17  TIF          8161 non-null   int64  \n",
            " 18  CAR_TYPE     8161 non-null   object \n",
            " 19  RED_CAR      8161 non-null   object \n",
            " 20  OLDCLAIM     8161 non-null   object \n",
            " 21  CLM_FREQ     8161 non-null   int64  \n",
            " 22  REVOKED      8161 non-null   object \n",
            " 23  MVR_PTS      8161 non-null   int64  \n",
            " 24  CAR_AGE      7651 non-null   float64\n",
            " 25  URBANICITY   8161 non-null   object \n",
            "dtypes: float64(4), int64(8), object(14)\n",
            "memory usage: 1.6+ MB\n"
          ],
          "name": "stdout"
        }
      ]
    },
    {
      "cell_type": "code",
      "metadata": {
        "ExecuteTime": {
          "end_time": "2021-01-01T15:42:01.612478Z",
          "start_time": "2021-01-01T15:42:01.333062Z"
        },
        "colab": {
          "base_uri": "https://localhost:8080/"
        },
        "id": "cgP70XsMtf86",
        "outputId": "4fec3323-636a-44f2-a768-0813e79a6299"
      },
      "source": [
        "train.isnull().sum()"
      ],
      "execution_count": 7,
      "outputs": [
        {
          "output_type": "execute_result",
          "data": {
            "text/plain": [
              "INDEX            0\n",
              "TARGET_FLAG      0\n",
              "TARGET_AMT       0\n",
              "KIDSDRIV         0\n",
              "AGE              6\n",
              "HOMEKIDS         0\n",
              "YOJ            454\n",
              "INCOME         445\n",
              "PARENT1          0\n",
              "HOME_VAL       464\n",
              "MSTATUS          0\n",
              "SEX              0\n",
              "EDUCATION        0\n",
              "JOB            526\n",
              "TRAVTIME         0\n",
              "CAR_USE          0\n",
              "BLUEBOOK         0\n",
              "TIF              0\n",
              "CAR_TYPE         0\n",
              "RED_CAR          0\n",
              "OLDCLAIM         0\n",
              "CLM_FREQ         0\n",
              "REVOKED          0\n",
              "MVR_PTS          0\n",
              "CAR_AGE        510\n",
              "URBANICITY       0\n",
              "dtype: int64"
            ]
          },
          "metadata": {
            "tags": []
          },
          "execution_count": 7
        }
      ]
    },
    {
      "cell_type": "markdown",
      "metadata": {
        "ExecuteTime": {
          "end_time": "2020-12-29T14:47:02.949439Z",
          "start_time": "2020-12-29T14:47:02.925057Z"
        },
        "id": "uTVIXv2itf87"
      },
      "source": [
        "### Study the varaibles"
      ]
    },
    {
      "cell_type": "code",
      "metadata": {
        "ExecuteTime": {
          "end_time": "2021-01-01T15:45:44.171511Z",
          "start_time": "2021-01-01T15:45:43.215868Z"
        },
        "id": "gui0GRmltf88"
      },
      "source": [
        "import seaborn as sns"
      ],
      "execution_count": 8,
      "outputs": []
    },
    {
      "cell_type": "code",
      "metadata": {
        "ExecuteTime": {
          "end_time": "2020-12-29T14:57:09.607675Z",
          "start_time": "2020-12-29T14:57:09.593871Z"
        },
        "colab": {
          "base_uri": "https://localhost:8080/"
        },
        "id": "nod0favUtf88",
        "outputId": "0fe8b5c3-5b51-43bf-f231-a49e2feb9e04"
      },
      "source": [
        "train.columns.to_series().groupby(train.dtypes).groups"
      ],
      "execution_count": 9,
      "outputs": [
        {
          "output_type": "execute_result",
          "data": {
            "text/plain": [
              "{int64: ['INDEX', 'TARGET_FLAG', 'KIDSDRIV', 'HOMEKIDS', 'TRAVTIME', 'TIF', 'CLM_FREQ', 'MVR_PTS'], float64: ['TARGET_AMT', 'AGE', 'YOJ', 'CAR_AGE'], object: ['INCOME', 'PARENT1', 'HOME_VAL', 'MSTATUS', 'SEX', 'EDUCATION', 'JOB', 'CAR_USE', 'BLUEBOOK', 'CAR_TYPE', 'RED_CAR', 'OLDCLAIM', 'REVOKED', 'URBANICITY']}"
            ]
          },
          "metadata": {
            "tags": []
          },
          "execution_count": 9
        }
      ]
    },
    {
      "cell_type": "markdown",
      "metadata": {
        "id": "bjlqpRpptf89"
      },
      "source": [
        "#### Numerical variables"
      ]
    },
    {
      "cell_type": "markdown",
      "metadata": {
        "id": "n43Z9ps8tf89"
      },
      "source": [
        "The variables `['INCOME', 'HOME_VAL', 'BLUEBOOK', 'OLDCLAIM']` contain \"$\" and \",\" which need to be removed."
      ]
    },
    {
      "cell_type": "code",
      "metadata": {
        "ExecuteTime": {
          "end_time": "2021-01-01T15:49:36.244196Z",
          "start_time": "2021-01-01T15:49:36.111942Z"
        },
        "id": "epOj3-zNtf8-"
      },
      "source": [
        "# convert ['INCOME', 'HOME_VAL', 'BLUEBOOK', 'OLDCLAIM'] to integer \n",
        "\n",
        "def convert_to_int(col,df):\n",
        "    col_converted = []\n",
        "    for i in list(df[col]):\n",
        "        if type(i) != float: # cannot be replace if it is NaN\n",
        "            col_converted.append(int(i.replace(',', '').replace('$',''))) # remove , and $, then convert it to integer\n",
        "        else : \n",
        "            col_converted.append(i)\n",
        "    return col_converted"
      ],
      "execution_count": 10,
      "outputs": []
    },
    {
      "cell_type": "code",
      "metadata": {
        "id": "9-_RMBRnE-jL"
      },
      "source": [
        "for i in ['INCOME', 'HOME_VAL', 'BLUEBOOK', 'OLDCLAIM']:\r\n",
        "    train[i] = convert_to_int(i,train)"
      ],
      "execution_count": 11,
      "outputs": []
    },
    {
      "cell_type": "markdown",
      "metadata": {
        "id": "S89m86wktf9B"
      },
      "source": [
        "- Fill some missing values\r\n",
        "\r\n",
        "To fill missing values, Multivariate Imputation by Chained Equations (MICE) is used."
      ]
    },
    {
      "cell_type": "code",
      "metadata": {
        "id": "VQCOKvL4tf9B"
      },
      "source": [
        "from fancyimpute import IterativeImputer as MICE"
      ],
      "execution_count": null,
      "outputs": []
    },
    {
      "cell_type": "markdown",
      "metadata": {
        "id": "lz1nAp_Ywj1w"
      },
      "source": [
        "For simplicity, we use only the numerical columns."
      ]
    },
    {
      "cell_type": "code",
      "metadata": {
        "id": "1lAGOmtBtf9C"
      },
      "source": [
        "# use MICE to fill in missing values\n",
        "data_selected = train[['INCOME', 'YOJ','HOME_VAL','BLUEBOOK', 'AGE']]\n",
        "data_mice = pd.DataFrame(MICE().fit_transform(data_selected), columns=['INCOME', 'YOJ','HOME_VAL','BLUEBOOK', 'AGE'])\n",
        "\n",
        "# replace old columns by filled columns\n",
        "for i in ['INCOME', 'YOJ','HOME_VAL','BLUEBOOK', 'AGE']:\n",
        "    train[i] = data_mice[i]"
      ],
      "execution_count": null,
      "outputs": []
    },
    {
      "cell_type": "code",
      "metadata": {
        "colab": {
          "base_uri": "https://localhost:8080/"
        },
        "id": "T24kbiEbujx6",
        "outputId": "af069b41-98c6-4219-8884-ae4372f2b040"
      },
      "source": [
        "train.isnull().sum()"
      ],
      "execution_count": 14,
      "outputs": [
        {
          "output_type": "execute_result",
          "data": {
            "text/plain": [
              "INDEX            0\n",
              "TARGET_FLAG      0\n",
              "TARGET_AMT       0\n",
              "KIDSDRIV         0\n",
              "AGE              0\n",
              "HOMEKIDS         0\n",
              "YOJ              0\n",
              "INCOME           0\n",
              "PARENT1          0\n",
              "HOME_VAL         0\n",
              "MSTATUS          0\n",
              "SEX              0\n",
              "EDUCATION        0\n",
              "JOB            526\n",
              "TRAVTIME         0\n",
              "CAR_USE          0\n",
              "BLUEBOOK         0\n",
              "TIF              0\n",
              "CAR_TYPE         0\n",
              "RED_CAR          0\n",
              "OLDCLAIM         0\n",
              "CLM_FREQ         0\n",
              "REVOKED          0\n",
              "MVR_PTS          0\n",
              "CAR_AGE        510\n",
              "URBANICITY       0\n",
              "dtype: int64"
            ]
          },
          "metadata": {
            "tags": []
          },
          "execution_count": 14
        }
      ]
    },
    {
      "cell_type": "markdown",
      "metadata": {
        "id": "ViH8S6Xrtf9C"
      },
      "source": [
        "#### Categorical variables"
      ]
    },
    {
      "cell_type": "markdown",
      "metadata": {
        "id": "2-rwSn4n8Q9l"
      },
      "source": [
        "Again for simplicity, missing categorical variables are dropped."
      ]
    },
    {
      "cell_type": "code",
      "metadata": {
        "colab": {
          "base_uri": "https://localhost:8080/"
        },
        "id": "x0HxoSIE8Sae",
        "outputId": "5af1a175-ca76-41e2-db22-4202da4a239e"
      },
      "source": [
        "train = train.dropna()\r\n",
        "train.info()"
      ],
      "execution_count": 15,
      "outputs": [
        {
          "output_type": "stream",
          "text": [
            "<class 'pandas.core.frame.DataFrame'>\n",
            "Int64Index: 7163 entries, 0 to 8160\n",
            "Data columns (total 26 columns):\n",
            " #   Column       Non-Null Count  Dtype  \n",
            "---  ------       --------------  -----  \n",
            " 0   INDEX        7163 non-null   int64  \n",
            " 1   TARGET_FLAG  7163 non-null   int64  \n",
            " 2   TARGET_AMT   7163 non-null   float64\n",
            " 3   KIDSDRIV     7163 non-null   int64  \n",
            " 4   AGE          7163 non-null   float64\n",
            " 5   HOMEKIDS     7163 non-null   int64  \n",
            " 6   YOJ          7163 non-null   float64\n",
            " 7   INCOME       7163 non-null   float64\n",
            " 8   PARENT1      7163 non-null   object \n",
            " 9   HOME_VAL     7163 non-null   float64\n",
            " 10  MSTATUS      7163 non-null   object \n",
            " 11  SEX          7163 non-null   object \n",
            " 12  EDUCATION    7163 non-null   object \n",
            " 13  JOB          7163 non-null   object \n",
            " 14  TRAVTIME     7163 non-null   int64  \n",
            " 15  CAR_USE      7163 non-null   object \n",
            " 16  BLUEBOOK     7163 non-null   float64\n",
            " 17  TIF          7163 non-null   int64  \n",
            " 18  CAR_TYPE     7163 non-null   object \n",
            " 19  RED_CAR      7163 non-null   object \n",
            " 20  OLDCLAIM     7163 non-null   int64  \n",
            " 21  CLM_FREQ     7163 non-null   int64  \n",
            " 22  REVOKED      7163 non-null   object \n",
            " 23  MVR_PTS      7163 non-null   int64  \n",
            " 24  CAR_AGE      7163 non-null   float64\n",
            " 25  URBANICITY   7163 non-null   object \n",
            "dtypes: float64(7), int64(9), object(10)\n",
            "memory usage: 1.5+ MB\n"
          ],
          "name": "stdout"
        }
      ]
    },
    {
      "cell_type": "code",
      "metadata": {
        "ExecuteTime": {
          "end_time": "2021-01-01T15:46:32.193768Z",
          "start_time": "2021-01-01T15:46:32.186661Z"
        },
        "id": "2N-bYRQFtf9D"
      },
      "source": [
        "var_category = ['TARGET_FLAG', 'PARENT1', 'MSTATUS', 'SEX', 'EDUCATION', 'JOB', 'CAR_USE', 'CAR_TYPE', 'RED_CAR', 'REVOKED', \n",
        "                'URBANICITY', 'CLM_FREQ']"
      ],
      "execution_count": 16,
      "outputs": []
    },
    {
      "cell_type": "code",
      "metadata": {
        "ExecuteTime": {
          "end_time": "2021-01-01T15:46:33.901678Z",
          "start_time": "2021-01-01T15:46:33.889074Z"
        },
        "id": "WRQQ6OZHtf9F"
      },
      "source": [
        "# function for plotting bar plots for categorical variables\n",
        "def bar_plot(col):\n",
        "        # get variable\n",
        "        var = train[col]\n",
        "        # count number of categorical variable(value/sample)\n",
        "        varValue = var.value_counts()\n",
        "        #visualize\n",
        "        plt.figure(figsize = (9,3))\n",
        "        plt.bar(varValue.index, varValue)\n",
        "        plt.xticks(varValue.index, varValue.index.values)\n",
        "        plt.ylabel(\"Frequency\")\n",
        "        plt.title(col)\n",
        "        plt.show()\n",
        "        print(\"{}: \\n {}\".format(col,varValue))"
      ],
      "execution_count": 17,
      "outputs": []
    },
    {
      "cell_type": "code",
      "metadata": {
        "ExecuteTime": {
          "end_time": "2021-01-01T15:47:33.437465Z",
          "start_time": "2021-01-01T15:47:33.370739Z"
        },
        "colab": {
          "base_uri": "https://localhost:8080/",
          "height": 395
        },
        "id": "-jSuAfTatf9V",
        "outputId": "6c619ca7-bbbb-47cd-a816-8b3909fb4107"
      },
      "source": [
        "train.head()"
      ],
      "execution_count": 18,
      "outputs": [
        {
          "output_type": "execute_result",
          "data": {
            "text/html": [
              "<div>\n",
              "<style scoped>\n",
              "    .dataframe tbody tr th:only-of-type {\n",
              "        vertical-align: middle;\n",
              "    }\n",
              "\n",
              "    .dataframe tbody tr th {\n",
              "        vertical-align: top;\n",
              "    }\n",
              "\n",
              "    .dataframe thead th {\n",
              "        text-align: right;\n",
              "    }\n",
              "</style>\n",
              "<table border=\"1\" class=\"dataframe\">\n",
              "  <thead>\n",
              "    <tr style=\"text-align: right;\">\n",
              "      <th></th>\n",
              "      <th>INDEX</th>\n",
              "      <th>TARGET_FLAG</th>\n",
              "      <th>TARGET_AMT</th>\n",
              "      <th>KIDSDRIV</th>\n",
              "      <th>AGE</th>\n",
              "      <th>HOMEKIDS</th>\n",
              "      <th>YOJ</th>\n",
              "      <th>INCOME</th>\n",
              "      <th>PARENT1</th>\n",
              "      <th>HOME_VAL</th>\n",
              "      <th>MSTATUS</th>\n",
              "      <th>SEX</th>\n",
              "      <th>EDUCATION</th>\n",
              "      <th>JOB</th>\n",
              "      <th>TRAVTIME</th>\n",
              "      <th>CAR_USE</th>\n",
              "      <th>BLUEBOOK</th>\n",
              "      <th>TIF</th>\n",
              "      <th>CAR_TYPE</th>\n",
              "      <th>RED_CAR</th>\n",
              "      <th>OLDCLAIM</th>\n",
              "      <th>CLM_FREQ</th>\n",
              "      <th>REVOKED</th>\n",
              "      <th>MVR_PTS</th>\n",
              "      <th>CAR_AGE</th>\n",
              "      <th>URBANICITY</th>\n",
              "    </tr>\n",
              "  </thead>\n",
              "  <tbody>\n",
              "    <tr>\n",
              "      <th>0</th>\n",
              "      <td>1</td>\n",
              "      <td>0</td>\n",
              "      <td>0.0</td>\n",
              "      <td>0</td>\n",
              "      <td>60.0</td>\n",
              "      <td>0</td>\n",
              "      <td>11.000000</td>\n",
              "      <td>67349.000000</td>\n",
              "      <td>No</td>\n",
              "      <td>0.0</td>\n",
              "      <td>z_No</td>\n",
              "      <td>M</td>\n",
              "      <td>PhD</td>\n",
              "      <td>Professional</td>\n",
              "      <td>14</td>\n",
              "      <td>Private</td>\n",
              "      <td>14230.0</td>\n",
              "      <td>11</td>\n",
              "      <td>Minivan</td>\n",
              "      <td>yes</td>\n",
              "      <td>4461</td>\n",
              "      <td>2</td>\n",
              "      <td>No</td>\n",
              "      <td>3</td>\n",
              "      <td>18.0</td>\n",
              "      <td>Highly Urban/ Urban</td>\n",
              "    </tr>\n",
              "    <tr>\n",
              "      <th>1</th>\n",
              "      <td>2</td>\n",
              "      <td>0</td>\n",
              "      <td>0.0</td>\n",
              "      <td>0</td>\n",
              "      <td>43.0</td>\n",
              "      <td>0</td>\n",
              "      <td>11.000000</td>\n",
              "      <td>91449.000000</td>\n",
              "      <td>No</td>\n",
              "      <td>257252.0</td>\n",
              "      <td>z_No</td>\n",
              "      <td>M</td>\n",
              "      <td>z_High School</td>\n",
              "      <td>z_Blue Collar</td>\n",
              "      <td>22</td>\n",
              "      <td>Commercial</td>\n",
              "      <td>14940.0</td>\n",
              "      <td>1</td>\n",
              "      <td>Minivan</td>\n",
              "      <td>yes</td>\n",
              "      <td>0</td>\n",
              "      <td>0</td>\n",
              "      <td>No</td>\n",
              "      <td>0</td>\n",
              "      <td>1.0</td>\n",
              "      <td>Highly Urban/ Urban</td>\n",
              "    </tr>\n",
              "    <tr>\n",
              "      <th>2</th>\n",
              "      <td>4</td>\n",
              "      <td>0</td>\n",
              "      <td>0.0</td>\n",
              "      <td>0</td>\n",
              "      <td>35.0</td>\n",
              "      <td>1</td>\n",
              "      <td>10.000000</td>\n",
              "      <td>16039.000000</td>\n",
              "      <td>No</td>\n",
              "      <td>124191.0</td>\n",
              "      <td>Yes</td>\n",
              "      <td>z_F</td>\n",
              "      <td>z_High School</td>\n",
              "      <td>Clerical</td>\n",
              "      <td>5</td>\n",
              "      <td>Private</td>\n",
              "      <td>4010.0</td>\n",
              "      <td>4</td>\n",
              "      <td>z_SUV</td>\n",
              "      <td>no</td>\n",
              "      <td>38690</td>\n",
              "      <td>2</td>\n",
              "      <td>No</td>\n",
              "      <td>3</td>\n",
              "      <td>10.0</td>\n",
              "      <td>Highly Urban/ Urban</td>\n",
              "    </tr>\n",
              "    <tr>\n",
              "      <th>3</th>\n",
              "      <td>5</td>\n",
              "      <td>0</td>\n",
              "      <td>0.0</td>\n",
              "      <td>0</td>\n",
              "      <td>51.0</td>\n",
              "      <td>0</td>\n",
              "      <td>14.000000</td>\n",
              "      <td>93324.335769</td>\n",
              "      <td>No</td>\n",
              "      <td>306251.0</td>\n",
              "      <td>Yes</td>\n",
              "      <td>M</td>\n",
              "      <td>&lt;High School</td>\n",
              "      <td>z_Blue Collar</td>\n",
              "      <td>32</td>\n",
              "      <td>Private</td>\n",
              "      <td>15440.0</td>\n",
              "      <td>7</td>\n",
              "      <td>Minivan</td>\n",
              "      <td>yes</td>\n",
              "      <td>0</td>\n",
              "      <td>0</td>\n",
              "      <td>No</td>\n",
              "      <td>0</td>\n",
              "      <td>6.0</td>\n",
              "      <td>Highly Urban/ Urban</td>\n",
              "    </tr>\n",
              "    <tr>\n",
              "      <th>4</th>\n",
              "      <td>6</td>\n",
              "      <td>0</td>\n",
              "      <td>0.0</td>\n",
              "      <td>0</td>\n",
              "      <td>50.0</td>\n",
              "      <td>0</td>\n",
              "      <td>11.959096</td>\n",
              "      <td>114986.000000</td>\n",
              "      <td>No</td>\n",
              "      <td>243925.0</td>\n",
              "      <td>Yes</td>\n",
              "      <td>z_F</td>\n",
              "      <td>PhD</td>\n",
              "      <td>Doctor</td>\n",
              "      <td>36</td>\n",
              "      <td>Private</td>\n",
              "      <td>18000.0</td>\n",
              "      <td>1</td>\n",
              "      <td>z_SUV</td>\n",
              "      <td>no</td>\n",
              "      <td>19217</td>\n",
              "      <td>2</td>\n",
              "      <td>Yes</td>\n",
              "      <td>3</td>\n",
              "      <td>17.0</td>\n",
              "      <td>Highly Urban/ Urban</td>\n",
              "    </tr>\n",
              "  </tbody>\n",
              "</table>\n",
              "</div>"
            ],
            "text/plain": [
              "   INDEX  TARGET_FLAG  TARGET_AMT  KIDSDRIV   AGE  HOMEKIDS        YOJ  \\\n",
              "0      1            0         0.0         0  60.0         0  11.000000   \n",
              "1      2            0         0.0         0  43.0         0  11.000000   \n",
              "2      4            0         0.0         0  35.0         1  10.000000   \n",
              "3      5            0         0.0         0  51.0         0  14.000000   \n",
              "4      6            0         0.0         0  50.0         0  11.959096   \n",
              "\n",
              "          INCOME PARENT1  HOME_VAL MSTATUS  SEX      EDUCATION            JOB  \\\n",
              "0   67349.000000      No       0.0    z_No    M            PhD   Professional   \n",
              "1   91449.000000      No  257252.0    z_No    M  z_High School  z_Blue Collar   \n",
              "2   16039.000000      No  124191.0     Yes  z_F  z_High School       Clerical   \n",
              "3   93324.335769      No  306251.0     Yes    M   <High School  z_Blue Collar   \n",
              "4  114986.000000      No  243925.0     Yes  z_F            PhD         Doctor   \n",
              "\n",
              "   TRAVTIME     CAR_USE  BLUEBOOK  TIF CAR_TYPE RED_CAR  OLDCLAIM  CLM_FREQ  \\\n",
              "0        14     Private   14230.0   11  Minivan     yes      4461         2   \n",
              "1        22  Commercial   14940.0    1  Minivan     yes         0         0   \n",
              "2         5     Private    4010.0    4    z_SUV      no     38690         2   \n",
              "3        32     Private   15440.0    7  Minivan     yes         0         0   \n",
              "4        36     Private   18000.0    1    z_SUV      no     19217         2   \n",
              "\n",
              "  REVOKED  MVR_PTS  CAR_AGE           URBANICITY  \n",
              "0      No        3     18.0  Highly Urban/ Urban  \n",
              "1      No        0      1.0  Highly Urban/ Urban  \n",
              "2      No        3     10.0  Highly Urban/ Urban  \n",
              "3      No        0      6.0  Highly Urban/ Urban  \n",
              "4     Yes        3     17.0  Highly Urban/ Urban  "
            ]
          },
          "metadata": {
            "tags": []
          },
          "execution_count": 18
        }
      ]
    },
    {
      "cell_type": "markdown",
      "metadata": {
        "id": "l307g_egtf9W"
      },
      "source": [
        "Visualise categorical variables:"
      ]
    },
    {
      "cell_type": "code",
      "metadata": {
        "ExecuteTime": {
          "end_time": "2021-01-01T13:52:25.697150Z",
          "start_time": "2021-01-01T13:52:20.382519Z"
        },
        "colab": {
          "base_uri": "https://localhost:8080/",
          "height": 1000
        },
        "id": "fF1IvP7Ztf9X",
        "outputId": "078ca91f-245c-4268-8fa7-b4842ba07c49"
      },
      "source": [
        "for c in var_category:\n",
        "    bar_plot(c)"
      ],
      "execution_count": 19,
      "outputs": [
        {
          "output_type": "display_data",
          "data": {
            "image/png": "[encoded data removed]",
            "text/plain": [
              "<Figure size 648x216 with 1 Axes>"
            ]
          },
          "metadata": {
            "tags": [],
            "needs_background": "light"
          }
        },
        {
          "output_type": "stream",
          "text": [
            "TARGET_FLAG: \n",
            " 0    5282\n",
            "1    1881\n",
            "Name: TARGET_FLAG, dtype: int64\n"
          ],
          "name": "stdout"
        },
        {
          "output_type": "display_data",
          "data": {
            "image/png": "[encoded data removed]",
            "text/plain": [
              "<Figure size 648x216 with 1 Axes>"
            ]
          },
          "metadata": {
            "tags": [],
            "needs_background": "light"
          }
        },
        {
          "output_type": "stream",
          "text": [
            "PARENT1: \n",
            " No     6197\n",
            "Yes     966\n",
            "Name: PARENT1, dtype: int64\n"
          ],
          "name": "stdout"
        },
        {
          "output_type": "display_data",
          "data": {
            "image/png": "[encoded data removed]",
            "text/plain": [
              "<Figure size 648x216 with 1 Axes>"
            ]
          },
          "metadata": {
            "tags": [],
            "needs_background": "light"
          }
        },
        {
          "output_type": "stream",
          "text": [
            "MSTATUS: \n",
            " Yes     4312\n",
            "z_No    2851\n",
            "Name: MSTATUS, dtype: int64\n"
          ],
          "name": "stdout"
        },
        {
          "output_type": "display_data",
          "data": {
            "image/png": "[encoded data removed]",
            "text/plain": [
              "<Figure size 648x216 with 1 Axes>"
            ]
          },
          "metadata": {
            "tags": [],
            "needs_background": "light"
          }
        },
        {
          "output_type": "stream",
          "text": [
            "SEX: \n",
            " z_F    4010\n",
            "M      3153\n",
            "Name: SEX, dtype: int64\n"
          ],
          "name": "stdout"
        },
        {
          "output_type": "display_data",
          "data": {
            "image/png": "[encoded data removed]",
            "text/plain": [
              "<Figure size 648x216 with 1 Axes>"
            ]
          },
          "metadata": {
            "tags": [],
            "needs_background": "light"
          }
        },
        {
          "output_type": "stream",
          "text": [
            "EDUCATION: \n",
            " z_High School    2187\n",
            "Bachelors        2093\n",
            "Masters          1247\n",
            "<High School     1144\n",
            "PhD               492\n",
            "Name: EDUCATION, dtype: int64\n"
          ],
          "name": "stdout"
        },
        {
          "output_type": "display_data",
          "data": {
            "image/png": "[encoded data removed]",
            "text/plain": [
              "<Figure size 648x216 with 1 Axes>"
            ]
          },
          "metadata": {
            "tags": [],
            "needs_background": "light"
          }
        },
        {
          "output_type": "stream",
          "text": [
            "JOB: \n",
            " z_Blue Collar    1724\n",
            "Clerical         1208\n",
            "Professional     1041\n",
            "Manager           927\n",
            "Lawyer            782\n",
            "Student           664\n",
            "Home Maker        586\n",
            "Doctor            231\n",
            "Name: JOB, dtype: int64\n"
          ],
          "name": "stdout"
        },
        {
          "output_type": "display_data",
          "data": {
            "image/png": "[encoded data removed]",
            "text/plain": [
              "<Figure size 648x216 with 1 Axes>"
            ]
          },
          "metadata": {
            "tags": [],
            "needs_background": "light"
          }
        },
        {
          "output_type": "stream",
          "text": [
            "CAR_USE: \n",
            " Private       4744\n",
            "Commercial    2419\n",
            "Name: CAR_USE, dtype: int64\n"
          ],
          "name": "stdout"
        },
        {
          "output_type": "display_data",
          "data": {
            "image/png": "[encoded data removed]",
            "text/plain": [
              "<Figure size 648x216 with 1 Axes>"
            ]
          },
          "metadata": {
            "tags": [],
            "needs_background": "light"
          }
        },
        {
          "output_type": "stream",
          "text": [
            "CAR_TYPE: \n",
            " z_SUV          2138\n",
            "Minivan        1990\n",
            "Pickup         1190\n",
            "Sports Car      841\n",
            "Van             599\n",
            "Panel Truck     405\n",
            "Name: CAR_TYPE, dtype: int64\n"
          ],
          "name": "stdout"
        },
        {
          "output_type": "display_data",
          "data": {
            "image/png": "[encoded data removed]",
            "text/plain": [
              "<Figure size 648x216 with 1 Axes>"
            ]
          },
          "metadata": {
            "tags": [],
            "needs_background": "light"
          }
        },
        {
          "output_type": "stream",
          "text": [
            "RED_CAR: \n",
            " no     5168\n",
            "yes    1995\n",
            "Name: RED_CAR, dtype: int64\n"
          ],
          "name": "stdout"
        },
        {
          "output_type": "display_data",
          "data": {
            "image/png": "[encoded data removed]",
            "text/plain": [
              "<Figure size 648x216 with 1 Axes>"
            ]
          },
          "metadata": {
            "tags": [],
            "needs_background": "light"
          }
        },
        {
          "output_type": "stream",
          "text": [
            "REVOKED: \n",
            " No     6283\n",
            "Yes     880\n",
            "Name: REVOKED, dtype: int64\n"
          ],
          "name": "stdout"
        },
        {
          "output_type": "display_data",
          "data": {
            "image/png": "[encoded data removed]",
            "text/plain": [
              "<Figure size 648x216 with 1 Axes>"
            ]
          },
          "metadata": {
            "tags": [],
            "needs_background": "light"
          }
        },
        {
          "output_type": "stream",
          "text": [
            "URBANICITY: \n",
            " Highly Urban/ Urban      5614\n",
            "z_Highly Rural/ Rural    1549\n",
            "Name: URBANICITY, dtype: int64\n"
          ],
          "name": "stdout"
        },
        {
          "output_type": "display_data",
          "data": {
            "image/png": "[encoded data removed]",
            "text/plain": [
              "<Figure size 648x216 with 1 Axes>"
            ]
          },
          "metadata": {
            "tags": [],
            "needs_background": "light"
          }
        },
        {
          "output_type": "stream",
          "text": [
            "CLM_FREQ: \n",
            " 0    4434\n",
            "2    1020\n",
            "1     864\n",
            "3     669\n",
            "4     162\n",
            "5      14\n",
            "Name: CLM_FREQ, dtype: int64\n"
          ],
          "name": "stdout"
        }
      ]
    },
    {
      "cell_type": "code",
      "metadata": {
        "ExecuteTime": {
          "end_time": "2021-01-01T15:47:45.524836Z",
          "start_time": "2021-01-01T15:47:45.210828Z"
        },
        "id": "EBDceffptf9Z"
      },
      "source": [
        "# create dummy variables for categorical \n",
        "# Variables that need dummy variables ['PARENT1', 'MSTATUS', 'SEX', 'EDUCATION', 'JOB', 'CAR_USE', 'CAR_TYPE', 'RED_CAR', 'REVOKED', 'URBANICITY']\n",
        "\n",
        "for col in ['PARENT1', 'MSTATUS', 'SEX', 'EDUCATION', 'JOB', 'CAR_USE', 'CAR_TYPE', 'RED_CAR', 'REVOKED', 'URBANICITY']:\n",
        "    train[col] = train[col].astype(\"category\")\n",
        "    train = pd.get_dummies(train, columns = [col])"
      ],
      "execution_count": 20,
      "outputs": []
    },
    {
      "cell_type": "code",
      "metadata": {
        "ExecuteTime": {
          "end_time": "2021-01-01T15:47:48.728691Z",
          "start_time": "2021-01-01T15:47:48.669747Z"
        },
        "colab": {
          "base_uri": "https://localhost:8080/",
          "height": 239
        },
        "id": "IzrQAfixtf9a",
        "outputId": "0c36e71d-07a6-47a6-ec9c-21d0dde78e56"
      },
      "source": [
        "train.head()"
      ],
      "execution_count": 21,
      "outputs": [
        {
          "output_type": "execute_result",
          "data": {
            "text/html": [
              "<div>\n",
              "<style scoped>\n",
              "    .dataframe tbody tr th:only-of-type {\n",
              "        vertical-align: middle;\n",
              "    }\n",
              "\n",
              "    .dataframe tbody tr th {\n",
              "        vertical-align: top;\n",
              "    }\n",
              "\n",
              "    .dataframe thead th {\n",
              "        text-align: right;\n",
              "    }\n",
              "</style>\n",
              "<table border=\"1\" class=\"dataframe\">\n",
              "  <thead>\n",
              "    <tr style=\"text-align: right;\">\n",
              "      <th></th>\n",
              "      <th>INDEX</th>\n",
              "      <th>TARGET_FLAG</th>\n",
              "      <th>TARGET_AMT</th>\n",
              "      <th>KIDSDRIV</th>\n",
              "      <th>AGE</th>\n",
              "      <th>HOMEKIDS</th>\n",
              "      <th>YOJ</th>\n",
              "      <th>INCOME</th>\n",
              "      <th>HOME_VAL</th>\n",
              "      <th>TRAVTIME</th>\n",
              "      <th>BLUEBOOK</th>\n",
              "      <th>TIF</th>\n",
              "      <th>OLDCLAIM</th>\n",
              "      <th>CLM_FREQ</th>\n",
              "      <th>MVR_PTS</th>\n",
              "      <th>CAR_AGE</th>\n",
              "      <th>PARENT1_No</th>\n",
              "      <th>PARENT1_Yes</th>\n",
              "      <th>MSTATUS_Yes</th>\n",
              "      <th>MSTATUS_z_No</th>\n",
              "      <th>SEX_M</th>\n",
              "      <th>SEX_z_F</th>\n",
              "      <th>EDUCATION_&lt;High School</th>\n",
              "      <th>EDUCATION_Bachelors</th>\n",
              "      <th>EDUCATION_Masters</th>\n",
              "      <th>EDUCATION_PhD</th>\n",
              "      <th>EDUCATION_z_High School</th>\n",
              "      <th>JOB_Clerical</th>\n",
              "      <th>JOB_Doctor</th>\n",
              "      <th>JOB_Home Maker</th>\n",
              "      <th>JOB_Lawyer</th>\n",
              "      <th>JOB_Manager</th>\n",
              "      <th>JOB_Professional</th>\n",
              "      <th>JOB_Student</th>\n",
              "      <th>JOB_z_Blue Collar</th>\n",
              "      <th>CAR_USE_Commercial</th>\n",
              "      <th>CAR_USE_Private</th>\n",
              "      <th>CAR_TYPE_Minivan</th>\n",
              "      <th>CAR_TYPE_Panel Truck</th>\n",
              "      <th>CAR_TYPE_Pickup</th>\n",
              "      <th>CAR_TYPE_Sports Car</th>\n",
              "      <th>CAR_TYPE_Van</th>\n",
              "      <th>CAR_TYPE_z_SUV</th>\n",
              "      <th>RED_CAR_no</th>\n",
              "      <th>RED_CAR_yes</th>\n",
              "      <th>REVOKED_No</th>\n",
              "      <th>REVOKED_Yes</th>\n",
              "      <th>URBANICITY_Highly Urban/ Urban</th>\n",
              "      <th>URBANICITY_z_Highly Rural/ Rural</th>\n",
              "    </tr>\n",
              "  </thead>\n",
              "  <tbody>\n",
              "    <tr>\n",
              "      <th>0</th>\n",
              "      <td>1</td>\n",
              "      <td>0</td>\n",
              "      <td>0.0</td>\n",
              "      <td>0</td>\n",
              "      <td>60.0</td>\n",
              "      <td>0</td>\n",
              "      <td>11.000000</td>\n",
              "      <td>67349.000000</td>\n",
              "      <td>0.0</td>\n",
              "      <td>14</td>\n",
              "      <td>14230.0</td>\n",
              "      <td>11</td>\n",
              "      <td>4461</td>\n",
              "      <td>2</td>\n",
              "      <td>3</td>\n",
              "      <td>18.0</td>\n",
              "      <td>1</td>\n",
              "      <td>0</td>\n",
              "      <td>0</td>\n",
              "      <td>1</td>\n",
              "      <td>1</td>\n",
              "      <td>0</td>\n",
              "      <td>0</td>\n",
              "      <td>0</td>\n",
              "      <td>0</td>\n",
              "      <td>1</td>\n",
              "      <td>0</td>\n",
              "      <td>0</td>\n",
              "      <td>0</td>\n",
              "      <td>0</td>\n",
              "      <td>0</td>\n",
              "      <td>0</td>\n",
              "      <td>1</td>\n",
              "      <td>0</td>\n",
              "      <td>0</td>\n",
              "      <td>0</td>\n",
              "      <td>1</td>\n",
              "      <td>1</td>\n",
              "      <td>0</td>\n",
              "      <td>0</td>\n",
              "      <td>0</td>\n",
              "      <td>0</td>\n",
              "      <td>0</td>\n",
              "      <td>0</td>\n",
              "      <td>1</td>\n",
              "      <td>1</td>\n",
              "      <td>0</td>\n",
              "      <td>1</td>\n",
              "      <td>0</td>\n",
              "    </tr>\n",
              "    <tr>\n",
              "      <th>1</th>\n",
              "      <td>2</td>\n",
              "      <td>0</td>\n",
              "      <td>0.0</td>\n",
              "      <td>0</td>\n",
              "      <td>43.0</td>\n",
              "      <td>0</td>\n",
              "      <td>11.000000</td>\n",
              "      <td>91449.000000</td>\n",
              "      <td>257252.0</td>\n",
              "      <td>22</td>\n",
              "      <td>14940.0</td>\n",
              "      <td>1</td>\n",
              "      <td>0</td>\n",
              "      <td>0</td>\n",
              "      <td>0</td>\n",
              "      <td>1.0</td>\n",
              "      <td>1</td>\n",
              "      <td>0</td>\n",
              "      <td>0</td>\n",
              "      <td>1</td>\n",
              "      <td>1</td>\n",
              "      <td>0</td>\n",
              "      <td>0</td>\n",
              "      <td>0</td>\n",
              "      <td>0</td>\n",
              "      <td>0</td>\n",
              "      <td>1</td>\n",
              "      <td>0</td>\n",
              "      <td>0</td>\n",
              "      <td>0</td>\n",
              "      <td>0</td>\n",
              "      <td>0</td>\n",
              "      <td>0</td>\n",
              "      <td>0</td>\n",
              "      <td>1</td>\n",
              "      <td>1</td>\n",
              "      <td>0</td>\n",
              "      <td>1</td>\n",
              "      <td>0</td>\n",
              "      <td>0</td>\n",
              "      <td>0</td>\n",
              "      <td>0</td>\n",
              "      <td>0</td>\n",
              "      <td>0</td>\n",
              "      <td>1</td>\n",
              "      <td>1</td>\n",
              "      <td>0</td>\n",
              "      <td>1</td>\n",
              "      <td>0</td>\n",
              "    </tr>\n",
              "    <tr>\n",
              "      <th>2</th>\n",
              "      <td>4</td>\n",
              "      <td>0</td>\n",
              "      <td>0.0</td>\n",
              "      <td>0</td>\n",
              "      <td>35.0</td>\n",
              "      <td>1</td>\n",
              "      <td>10.000000</td>\n",
              "      <td>16039.000000</td>\n",
              "      <td>124191.0</td>\n",
              "      <td>5</td>\n",
              "      <td>4010.0</td>\n",
              "      <td>4</td>\n",
              "      <td>38690</td>\n",
              "      <td>2</td>\n",
              "      <td>3</td>\n",
              "      <td>10.0</td>\n",
              "      <td>1</td>\n",
              "      <td>0</td>\n",
              "      <td>1</td>\n",
              "      <td>0</td>\n",
              "      <td>0</td>\n",
              "      <td>1</td>\n",
              "      <td>0</td>\n",
              "      <td>0</td>\n",
              "      <td>0</td>\n",
              "      <td>0</td>\n",
              "      <td>1</td>\n",
              "      <td>1</td>\n",
              "      <td>0</td>\n",
              "      <td>0</td>\n",
              "      <td>0</td>\n",
              "      <td>0</td>\n",
              "      <td>0</td>\n",
              "      <td>0</td>\n",
              "      <td>0</td>\n",
              "      <td>0</td>\n",
              "      <td>1</td>\n",
              "      <td>0</td>\n",
              "      <td>0</td>\n",
              "      <td>0</td>\n",
              "      <td>0</td>\n",
              "      <td>0</td>\n",
              "      <td>1</td>\n",
              "      <td>1</td>\n",
              "      <td>0</td>\n",
              "      <td>1</td>\n",
              "      <td>0</td>\n",
              "      <td>1</td>\n",
              "      <td>0</td>\n",
              "    </tr>\n",
              "    <tr>\n",
              "      <th>3</th>\n",
              "      <td>5</td>\n",
              "      <td>0</td>\n",
              "      <td>0.0</td>\n",
              "      <td>0</td>\n",
              "      <td>51.0</td>\n",
              "      <td>0</td>\n",
              "      <td>14.000000</td>\n",
              "      <td>93324.335769</td>\n",
              "      <td>306251.0</td>\n",
              "      <td>32</td>\n",
              "      <td>15440.0</td>\n",
              "      <td>7</td>\n",
              "      <td>0</td>\n",
              "      <td>0</td>\n",
              "      <td>0</td>\n",
              "      <td>6.0</td>\n",
              "      <td>1</td>\n",
              "      <td>0</td>\n",
              "      <td>1</td>\n",
              "      <td>0</td>\n",
              "      <td>1</td>\n",
              "      <td>0</td>\n",
              "      <td>1</td>\n",
              "      <td>0</td>\n",
              "      <td>0</td>\n",
              "      <td>0</td>\n",
              "      <td>0</td>\n",
              "      <td>0</td>\n",
              "      <td>0</td>\n",
              "      <td>0</td>\n",
              "      <td>0</td>\n",
              "      <td>0</td>\n",
              "      <td>0</td>\n",
              "      <td>0</td>\n",
              "      <td>1</td>\n",
              "      <td>0</td>\n",
              "      <td>1</td>\n",
              "      <td>1</td>\n",
              "      <td>0</td>\n",
              "      <td>0</td>\n",
              "      <td>0</td>\n",
              "      <td>0</td>\n",
              "      <td>0</td>\n",
              "      <td>0</td>\n",
              "      <td>1</td>\n",
              "      <td>1</td>\n",
              "      <td>0</td>\n",
              "      <td>1</td>\n",
              "      <td>0</td>\n",
              "    </tr>\n",
              "    <tr>\n",
              "      <th>4</th>\n",
              "      <td>6</td>\n",
              "      <td>0</td>\n",
              "      <td>0.0</td>\n",
              "      <td>0</td>\n",
              "      <td>50.0</td>\n",
              "      <td>0</td>\n",
              "      <td>11.959096</td>\n",
              "      <td>114986.000000</td>\n",
              "      <td>243925.0</td>\n",
              "      <td>36</td>\n",
              "      <td>18000.0</td>\n",
              "      <td>1</td>\n",
              "      <td>19217</td>\n",
              "      <td>2</td>\n",
              "      <td>3</td>\n",
              "      <td>17.0</td>\n",
              "      <td>1</td>\n",
              "      <td>0</td>\n",
              "      <td>1</td>\n",
              "      <td>0</td>\n",
              "      <td>0</td>\n",
              "      <td>1</td>\n",
              "      <td>0</td>\n",
              "      <td>0</td>\n",
              "      <td>0</td>\n",
              "      <td>1</td>\n",
              "      <td>0</td>\n",
              "      <td>0</td>\n",
              "      <td>1</td>\n",
              "      <td>0</td>\n",
              "      <td>0</td>\n",
              "      <td>0</td>\n",
              "      <td>0</td>\n",
              "      <td>0</td>\n",
              "      <td>0</td>\n",
              "      <td>0</td>\n",
              "      <td>1</td>\n",
              "      <td>0</td>\n",
              "      <td>0</td>\n",
              "      <td>0</td>\n",
              "      <td>0</td>\n",
              "      <td>0</td>\n",
              "      <td>1</td>\n",
              "      <td>1</td>\n",
              "      <td>0</td>\n",
              "      <td>0</td>\n",
              "      <td>1</td>\n",
              "      <td>1</td>\n",
              "      <td>0</td>\n",
              "    </tr>\n",
              "  </tbody>\n",
              "</table>\n",
              "</div>"
            ],
            "text/plain": [
              "   INDEX  TARGET_FLAG  TARGET_AMT  KIDSDRIV   AGE  HOMEKIDS        YOJ  \\\n",
              "0      1            0         0.0         0  60.0         0  11.000000   \n",
              "1      2            0         0.0         0  43.0         0  11.000000   \n",
              "2      4            0         0.0         0  35.0         1  10.000000   \n",
              "3      5            0         0.0         0  51.0         0  14.000000   \n",
              "4      6            0         0.0         0  50.0         0  11.959096   \n",
              "\n",
              "          INCOME  HOME_VAL  TRAVTIME  BLUEBOOK  TIF  OLDCLAIM  CLM_FREQ  \\\n",
              "0   67349.000000       0.0        14   14230.0   11      4461         2   \n",
              "1   91449.000000  257252.0        22   14940.0    1         0         0   \n",
              "2   16039.000000  124191.0         5    4010.0    4     38690         2   \n",
              "3   93324.335769  306251.0        32   15440.0    7         0         0   \n",
              "4  114986.000000  243925.0        36   18000.0    1     19217         2   \n",
              "\n",
              "   MVR_PTS  CAR_AGE  PARENT1_No  PARENT1_Yes  MSTATUS_Yes  MSTATUS_z_No  \\\n",
              "0        3     18.0           1            0            0             1   \n",
              "1        0      1.0           1            0            0             1   \n",
              "2        3     10.0           1            0            1             0   \n",
              "3        0      6.0           1            0            1             0   \n",
              "4        3     17.0           1            0            1             0   \n",
              "\n",
              "   SEX_M  SEX_z_F  EDUCATION_<High School  EDUCATION_Bachelors  \\\n",
              "0      1        0                       0                    0   \n",
              "1      1        0                       0                    0   \n",
              "2      0        1                       0                    0   \n",
              "3      1        0                       1                    0   \n",
              "4      0        1                       0                    0   \n",
              "\n",
              "   EDUCATION_Masters  EDUCATION_PhD  EDUCATION_z_High School  JOB_Clerical  \\\n",
              "0                  0              1                        0             0   \n",
              "1                  0              0                        1             0   \n",
              "2                  0              0                        1             1   \n",
              "3                  0              0                        0             0   \n",
              "4                  0              1                        0             0   \n",
              "\n",
              "   JOB_Doctor  JOB_Home Maker  JOB_Lawyer  JOB_Manager  JOB_Professional  \\\n",
              "0           0               0           0            0                 1   \n",
              "1           0               0           0            0                 0   \n",
              "2           0               0           0            0                 0   \n",
              "3           0               0           0            0                 0   \n",
              "4           1               0           0            0                 0   \n",
              "\n",
              "   JOB_Student  JOB_z_Blue Collar  CAR_USE_Commercial  CAR_USE_Private  \\\n",
              "0            0                  0                   0                1   \n",
              "1            0                  1                   1                0   \n",
              "2            0                  0                   0                1   \n",
              "3            0                  1                   0                1   \n",
              "4            0                  0                   0                1   \n",
              "\n",
              "   CAR_TYPE_Minivan  CAR_TYPE_Panel Truck  CAR_TYPE_Pickup  \\\n",
              "0                 1                     0                0   \n",
              "1                 1                     0                0   \n",
              "2                 0                     0                0   \n",
              "3                 1                     0                0   \n",
              "4                 0                     0                0   \n",
              "\n",
              "   CAR_TYPE_Sports Car  CAR_TYPE_Van  CAR_TYPE_z_SUV  RED_CAR_no  RED_CAR_yes  \\\n",
              "0                    0             0               0           0            1   \n",
              "1                    0             0               0           0            1   \n",
              "2                    0             0               1           1            0   \n",
              "3                    0             0               0           0            1   \n",
              "4                    0             0               1           1            0   \n",
              "\n",
              "   REVOKED_No  REVOKED_Yes  URBANICITY_Highly Urban/ Urban  \\\n",
              "0           1            0                               1   \n",
              "1           1            0                               1   \n",
              "2           1            0                               1   \n",
              "3           1            0                               1   \n",
              "4           0            1                               1   \n",
              "\n",
              "   URBANICITY_z_Highly Rural/ Rural  \n",
              "0                                 0  \n",
              "1                                 0  \n",
              "2                                 0  \n",
              "3                                 0  \n",
              "4                                 0  "
            ]
          },
          "metadata": {
            "tags": []
          },
          "execution_count": 21
        }
      ]
    },
    {
      "cell_type": "markdown",
      "metadata": {
        "id": "TfJtVBY6tf9b"
      },
      "source": [
        "#### Splitting train data for training and testing"
      ]
    },
    {
      "cell_type": "code",
      "metadata": {
        "ExecuteTime": {
          "end_time": "2021-01-01T14:04:05.487506Z",
          "start_time": "2021-01-01T14:04:02.442965Z"
        },
        "scrolled": true,
        "id": "S13xztRQtf9b"
      },
      "source": [
        "# import library\n",
        "from sklearn.model_selection import train_test_split"
      ],
      "execution_count": 22,
      "outputs": []
    },
    {
      "cell_type": "code",
      "metadata": {
        "ExecuteTime": {
          "end_time": "2021-01-01T14:04:14.059496Z",
          "start_time": "2021-01-01T14:04:14.043746Z"
        },
        "id": "yK7W4Jhgtf9c"
      },
      "source": [
        "# random state for reproductivity\n",
        "random_state = 123"
      ],
      "execution_count": 23,
      "outputs": []
    },
    {
      "cell_type": "code",
      "metadata": {
        "ExecuteTime": {
          "end_time": "2021-01-01T14:04:07.291526Z",
          "start_time": "2021-01-01T14:04:07.259791Z"
        },
        "id": "rQpSaYWttf9c"
      },
      "source": [
        "# create dataset for training and testing\n",
        "X = train.drop(labels = [\"TARGET_FLAG\", \"INDEX\", \"TARGET_AMT\"], axis = 1)\n",
        "y = train[\"TARGET_FLAG\"]\n",
        "X_train, X_test, y_train, y_test = train_test_split(X, y, test_size = 0.3, random_state = random_state)"
      ],
      "execution_count": 24,
      "outputs": []
    },
    {
      "cell_type": "markdown",
      "metadata": {
        "id": "G6gBJA_ktf9d"
      },
      "source": [
        "### Models"
      ]
    },
    {
      "cell_type": "code",
      "metadata": {
        "ExecuteTime": {
          "end_time": "2021-01-01T14:04:10.053122Z",
          "start_time": "2021-01-01T14:04:09.628683Z"
        },
        "id": "quSEQKgKtf9d"
      },
      "source": [
        "# import packages for model training\n",
        "from sklearn.model_selection import StratifiedKFold, GridSearchCV\n",
        "from sklearn.linear_model import LogisticRegression\n",
        "from sklearn.tree import DecisionTreeClassifier\n",
        "from sklearn.ensemble import RandomForestClassifier, VotingClassifier\n",
        "from sklearn.metrics import accuracy_score, f1_score"
      ],
      "execution_count": 25,
      "outputs": []
    },
    {
      "cell_type": "markdown",
      "metadata": {
        "id": "cTiyXjOetf9e"
      },
      "source": [
        "#### Logistic regression"
      ]
    },
    {
      "cell_type": "code",
      "metadata": {
        "ExecuteTime": {
          "end_time": "2021-01-01T14:04:16.519580Z",
          "start_time": "2021-01-01T14:04:16.344746Z"
        },
        "colab": {
          "base_uri": "https://localhost:8080/"
        },
        "id": "K1q9L6Wutf9e",
        "outputId": "cacc5879-f42a-42f5-cd39-6a91bd91ad96"
      },
      "source": [
        "logreg = LogisticRegression()\n",
        "logreg.fit(X_train, y_train)\n",
        "acc_log_train = round(logreg.score(X_train, y_train) * 100, 2)\n",
        "acc_log_test = round(logreg.score(X_test, y_test) * 100, 2)\n",
        "print(\"Training Accuracy :% {}\".format(acc_log_train))"
      ],
      "execution_count": 26,
      "outputs": [
        {
          "output_type": "stream",
          "text": [
            "Training Accuracy :% 73.87\n"
          ],
          "name": "stdout"
        }
      ]
    },
    {
      "cell_type": "markdown",
      "metadata": {
        "id": "qQT__3ePtf9f"
      },
      "source": [
        "#### Decision Tree"
      ]
    },
    {
      "cell_type": "code",
      "metadata": {
        "ExecuteTime": {
          "end_time": "2021-01-01T14:04:57.735538Z",
          "start_time": "2021-01-01T14:04:22.621035Z"
        },
        "colab": {
          "base_uri": "https://localhost:8080/"
        },
        "id": "b7ELfBsetf9h",
        "outputId": "1f69d2ac-904a-4cae-dd65-1239f59600bc"
      },
      "source": [
        "tree_model = DecisionTreeClassifier(random_state = random_state)\n",
        "# parameters choice\n",
        "tree_param_grid = {\"min_samples_split\" : range(10,500,20), \"max_depth\": range(1,20,2)}\n",
        "# initialise grid search\n",
        "tree_grid = GridSearchCV(tree_model, param_grid=tree_param_grid, cv = StratifiedKFold(n_splits = 10), \n",
        "                         scoring = \"f1\", n_jobs = -1,verbose = 1)\n",
        "# fit the model to the grid search\n",
        "tree_grid.fit(X_train,y_train)"
      ],
      "execution_count": 27,
      "outputs": [
        {
          "output_type": "stream",
          "text": [
            "Fitting 10 folds for each of 250 candidates, totalling 2500 fits\n"
          ],
          "name": "stdout"
        },
        {
          "output_type": "stream",
          "text": [
            "[Parallel(n_jobs=-1)]: Using backend LokyBackend with 2 concurrent workers.\n",
            "[Parallel(n_jobs=-1)]: Done 202 tasks      | elapsed:    3.5s\n",
            "[Parallel(n_jobs=-1)]: Done 1402 tasks      | elapsed:   30.0s\n",
            "[Parallel(n_jobs=-1)]: Done 2500 out of 2500 | elapsed:  1.0min finished\n"
          ],
          "name": "stderr"
        },
        {
          "output_type": "execute_result",
          "data": {
            "text/plain": [
              "GridSearchCV(cv=StratifiedKFold(n_splits=10, random_state=None, shuffle=False),\n",
              "             error_score=nan,\n",
              "             estimator=DecisionTreeClassifier(ccp_alpha=0.0, class_weight=None,\n",
              "                                              criterion='gini', max_depth=None,\n",
              "                                              max_features=None,\n",
              "                                              max_leaf_nodes=None,\n",
              "                                              min_impurity_decrease=0.0,\n",
              "                                              min_impurity_split=None,\n",
              "                                              min_samples_leaf=1,\n",
              "                                              min_samples_split=2,\n",
              "                                              min_weight_fraction_leaf=0.0,\n",
              "                                              presort='deprecated',\n",
              "                                              random_state=123,\n",
              "                                              splitter='best'),\n",
              "             iid='deprecated', n_jobs=-1,\n",
              "             param_grid={'max_depth': range(1, 20, 2),\n",
              "                         'min_samples_split': range(10, 500, 20)},\n",
              "             pre_dispatch='2*n_jobs', refit=True, return_train_score=False,\n",
              "             scoring='f1', verbose=1)"
            ]
          },
          "metadata": {
            "tags": []
          },
          "execution_count": 27
        }
      ]
    },
    {
      "cell_type": "code",
      "metadata": {
        "ExecuteTime": {
          "end_time": "2021-01-01T14:05:03.676340Z",
          "start_time": "2021-01-01T14:05:03.668359Z"
        },
        "colab": {
          "base_uri": "https://localhost:8080/"
        },
        "id": "6wnRI5SOtf9h",
        "outputId": "31e9bf3a-5e34-4064-c521-d7142b3f9fd7"
      },
      "source": [
        "tree_grid.best_score_"
      ],
      "execution_count": 28,
      "outputs": [
        {
          "output_type": "execute_result",
          "data": {
            "text/plain": [
              "0.4740869313087107"
            ]
          },
          "metadata": {
            "tags": []
          },
          "execution_count": 28
        }
      ]
    },
    {
      "cell_type": "markdown",
      "metadata": {
        "id": "oxy5nWoYtf9i"
      },
      "source": [
        "#### Random Forest"
      ]
    },
    {
      "cell_type": "code",
      "metadata": {
        "ExecuteTime": {
          "end_time": "2021-01-01T14:09:50.093878Z",
          "start_time": "2021-01-01T14:05:08.009266Z"
        },
        "colab": {
          "base_uri": "https://localhost:8080/"
        },
        "id": "Uc5dKEFDtf9i",
        "outputId": "52957827-e2f3-42a1-ef82-6ad17e6bb06d"
      },
      "source": [
        "rf_model = RandomForestClassifier(random_state = random_state)\n",
        "\n",
        "rf_param_grid = {\"max_features\": [1,3,10],\n",
        "                \"min_samples_split\":[2,3,10],\n",
        "                \"min_samples_leaf\":[1,3,10],\n",
        "                \"n_estimators\":[100,300],\n",
        "                \"criterion\":[\"gini\"]}\n",
        "\n",
        "rf_grid = GridSearchCV(rf_model, param_grid=rf_param_grid, cv = StratifiedKFold(n_splits = 10), \n",
        "                         scoring = \"f1\", n_jobs = -1,verbose = 1)\n",
        "\n",
        "rf_grid.fit(X_train, y_train)"
      ],
      "execution_count": 29,
      "outputs": [
        {
          "output_type": "stream",
          "text": [
            "[Parallel(n_jobs=-1)]: Using backend LokyBackend with 2 concurrent workers.\n"
          ],
          "name": "stderr"
        },
        {
          "output_type": "stream",
          "text": [
            "Fitting 10 folds for each of 54 candidates, totalling 540 fits\n"
          ],
          "name": "stdout"
        },
        {
          "output_type": "stream",
          "text": [
            "[Parallel(n_jobs=-1)]: Done  46 tasks      | elapsed:   29.2s\n",
            "[Parallel(n_jobs=-1)]: Done 196 tasks      | elapsed:  1.8min\n",
            "[Parallel(n_jobs=-1)]: Done 446 tasks      | elapsed:  5.7min\n",
            "[Parallel(n_jobs=-1)]: Done 540 out of 540 | elapsed:  7.7min finished\n"
          ],
          "name": "stderr"
        },
        {
          "output_type": "execute_result",
          "data": {
            "text/plain": [
              "GridSearchCV(cv=StratifiedKFold(n_splits=10, random_state=None, shuffle=False),\n",
              "             error_score=nan,\n",
              "             estimator=RandomForestClassifier(bootstrap=True, ccp_alpha=0.0,\n",
              "                                              class_weight=None,\n",
              "                                              criterion='gini', max_depth=None,\n",
              "                                              max_features='auto',\n",
              "                                              max_leaf_nodes=None,\n",
              "                                              max_samples=None,\n",
              "                                              min_impurity_decrease=0.0,\n",
              "                                              min_impurity_split=None,\n",
              "                                              min_samples_leaf=1,\n",
              "                                              min_samples_split=2,\n",
              "                                              min_weight_fraction_leaf=0.0,\n",
              "                                              n_estimators=100, n_jobs=None,\n",
              "                                              oob_score=False, random_state=123,\n",
              "                                              verbose=0, warm_start=False),\n",
              "             iid='deprecated', n_jobs=-1,\n",
              "             param_grid={'criterion': ['gini'], 'max_features': [1, 3, 10],\n",
              "                         'min_samples_leaf': [1, 3, 10],\n",
              "                         'min_samples_split': [2, 3, 10],\n",
              "                         'n_estimators': [100, 300]},\n",
              "             pre_dispatch='2*n_jobs', refit=True, return_train_score=False,\n",
              "             scoring='f1', verbose=1)"
            ]
          },
          "metadata": {
            "tags": []
          },
          "execution_count": 29
        }
      ]
    },
    {
      "cell_type": "code",
      "metadata": {
        "ExecuteTime": {
          "end_time": "2021-01-01T14:49:19.528529Z",
          "start_time": "2021-01-01T14:49:19.386715Z"
        },
        "colab": {
          "base_uri": "https://localhost:8080/"
        },
        "id": "zO2Qbm5ftf9j",
        "outputId": "6dec9ec3-c57c-43bd-86aa-482be7f447c2"
      },
      "source": [
        "rf_grid.best_score_"
      ],
      "execution_count": 30,
      "outputs": [
        {
          "output_type": "execute_result",
          "data": {
            "text/plain": [
              "0.5019876501826072"
            ]
          },
          "metadata": {
            "tags": []
          },
          "execution_count": 30
        }
      ]
    },
    {
      "cell_type": "markdown",
      "metadata": {
        "id": "I2fmiyTNtf9k"
      },
      "source": [
        "#### Evaluation"
      ]
    },
    {
      "cell_type": "markdown",
      "metadata": {
        "id": "NJNdadaU7VhF"
      },
      "source": [
        "The models are compared using accuracy and f1 score. In the grid search above, we look for the models with best f1 score because we consider that the false positives and false negatives are equally important."
      ]
    },
    {
      "cell_type": "code",
      "metadata": {
        "id": "mhT-Pc-Qys6j"
      },
      "source": [
        "# test score\r\n",
        "\r\n",
        "models = [\"Logistic regression\", \"Decision Tree\", \"Random Forest\"]\r\n",
        "\r\n",
        "# accuracy \r\n",
        "acc = []\r\n",
        "acc.append(round(logreg.score(X_test, y_test) * 100, 2))\r\n",
        "acc.append(round(accuracy_score(tree_grid.best_estimator_.predict(X_test), y_test)*100, 2))\r\n",
        "acc.append(round(accuracy_score(rf_grid.best_estimator_.predict(X_test), y_test)*100,2))\r\n",
        "\r\n",
        "# f1 score\r\n",
        "f1 = []\r\n",
        "f1.append(round(f1_score(logreg.predict(X_test), y_test) * 100, 2))\r\n",
        "f1.append(round(f1_score(tree_grid.best_estimator_.predict(X_test), y_test)*100, 2))\r\n",
        "f1.append(round(f1_score(rf_grid.best_estimator_.predict(X_test), y_test)*100,2))\r\n",
        "\r\n",
        "results = pd.DataFrame({\"Accuracy\":acc, \"f1 score\":f1, \"Models\": models})"
      ],
      "execution_count": 31,
      "outputs": []
    },
    {
      "cell_type": "code",
      "metadata": {
        "colab": {
          "base_uri": "https://localhost:8080/",
          "height": 351
        },
        "id": "gm0KWroT1hPQ",
        "outputId": "b8707f57-8405-4197-e542-75be1eb1cb5d"
      },
      "source": [
        "sns.barplot(\"Accuracy\", \"Models\", data = results)"
      ],
      "execution_count": 33,
      "outputs": [
        {
          "output_type": "stream",
          "text": [
            "/usr/local/lib/python3.6/dist-packages/seaborn/_decorators.py:43: FutureWarning: Pass the following variables as keyword args: x, y. From version 0.12, the only valid positional argument will be `data`, and passing other arguments without an explicit keyword will result in an error or misinterpretation.\n",
            "  FutureWarning\n"
          ],
          "name": "stderr"
        },
        {
          "output_type": "execute_result",
          "data": {
            "text/plain": [
              "<matplotlib.axes._subplots.AxesSubplot at 0x7f01cf378908>"
            ]
          },
          "metadata": {
            "tags": []
          },
          "execution_count": 33
        },
        {
          "output_type": "display_data",
          "data": {
            "image/png": "[encoded data removed]",
            "text/plain": [
              "<Figure size 432x288 with 1 Axes>"
            ]
          },
          "metadata": {
            "tags": [],
            "needs_background": "light"
          }
        }
      ]
    },
    {
      "cell_type": "code",
      "metadata": {
        "colab": {
          "base_uri": "https://localhost:8080/",
          "height": 351
        },
        "id": "dHM7rcuf5sgh",
        "outputId": "ab4147db-93d9-4d3d-8ec5-649b5d8939b5"
      },
      "source": [
        "sns.barplot(\"f1 score\", \"Models\", data = results)"
      ],
      "execution_count": 34,
      "outputs": [
        {
          "output_type": "stream",
          "text": [
            "/usr/local/lib/python3.6/dist-packages/seaborn/_decorators.py:43: FutureWarning: Pass the following variables as keyword args: x, y. From version 0.12, the only valid positional argument will be `data`, and passing other arguments without an explicit keyword will result in an error or misinterpretation.\n",
            "  FutureWarning\n"
          ],
          "name": "stderr"
        },
        {
          "output_type": "execute_result",
          "data": {
            "text/plain": [
              "<matplotlib.axes._subplots.AxesSubplot at 0x7f01cf34f1d0>"
            ]
          },
          "metadata": {
            "tags": []
          },
          "execution_count": 34
        },
        {
          "output_type": "display_data",
          "data": {
            "image/png": "[encoded data removed]",
            "text/plain": [
              "<Figure size 432x288 with 1 Axes>"
            ]
          },
          "metadata": {
            "tags": [],
            "needs_background": "light"
          }
        }
      ]
    },
    {
      "cell_type": "code",
      "metadata": {
        "id": "YvpzN9up6BG0"
      },
      "source": [
        "# best estimator\r\n",
        "best_estimator = rf_grid.best_estimator_"
      ],
      "execution_count": 35,
      "outputs": []
    },
    {
      "cell_type": "markdown",
      "metadata": {
        "id": "3Mag5tOs8sCz"
      },
      "source": [
        "#### Possible improvements\r\n"
      ]
    },
    {
      "cell_type": "markdown",
      "metadata": {
        "id": "0UgW3t5yJD4y"
      },
      "source": [
        "The model could be improved using more knowledge on the data. For example, the consideration of ordinal encoding for categorical variables. If we know which item in the category is important, we can encorde it in proper order. Better understanding of the data could also lead to better choice of predictor variables."
      ]
    },
    {
      "cell_type": "markdown",
      "metadata": {
        "id": "odQuFvO-tf9l"
      },
      "source": [
        "### Prediction"
      ]
    },
    {
      "cell_type": "markdown",
      "metadata": {
        "id": "7BmZUF2V7Gx8"
      },
      "source": [
        "The best estimator is applied on the test dataset."
      ]
    },
    {
      "cell_type": "code",
      "metadata": {
        "id": "EJWP1Ot0tf9l"
      },
      "source": [
        "# prepare the test data: create dummy variables and remove $ and , signs\n",
        "\n",
        "# encoding categorical variables\n",
        "for col in ['PARENT1', 'MSTATUS', 'SEX', 'EDUCATION', 'JOB', 'CAR_USE', 'CAR_TYPE', 'RED_CAR', 'REVOKED', 'URBANICITY']:\n",
        "    test[col] = test[col].astype(\"category\")\n",
        "    test = pd.get_dummies(test, columns = [col])\n",
        "\n",
        "# convert ['INCOME', 'HOME_VAL', 'BLUEBOOK', 'OLDCLAIM'] to integers\n",
        "for i in ['INCOME', 'HOME_VAL', 'BLUEBOOK', 'OLDCLAIM']:\n",
        "    test[i] = convert_to_int(i,test)\n",
        "\n",
        "# get X for prediction\n",
        "X = test.drop(labels = [\"TARGET_FLAG\", \"TARGET_AMT\"], axis = 1)\n",
        "X = X.dropna()\n",
        "\n",
        "# index \n",
        "index = X['INDEX']\n",
        "X = X.drop(labels = [\"INDEX\"], axis = 1)\n",
        "\n",
        "# make prediction using the best method\n",
        "prediction =  pd.Series(best_estimator.predict(X), name = \"Target_flag\").astype(int)\n",
        "\n",
        "# csv of prediction\n",
        "result = pd.concat([index, prediction], axis = 1)\n",
        "# result.to_csv(\"test_result.csv\")"
      ],
      "execution_count": 36,
      "outputs": []
    }
  ]
}